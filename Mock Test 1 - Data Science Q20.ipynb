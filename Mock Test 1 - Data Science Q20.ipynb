{
 "cells": [
  {
   "cell_type": "markdown",
   "id": "e6421cea-460c-48b6-822f-29534b48b87d",
   "metadata": {},
   "source": [
    "Q20.Ans"
   ]
  },
  {
   "cell_type": "code",
   "execution_count": 2,
   "id": "91b9f1ba-f048-4ff1-b334-a6cb50251609",
   "metadata": {},
   "outputs": [
    {
     "name": "stdout",
     "output_type": "stream",
     "text": [
      "P-value: 0.09434977284243756\n"
     ]
    }
   ],
   "source": [
    "from scipy import stats\n",
    "\n",
    "def perform_hypothesis_test(list1, list2):\n",
    "    t_statistic, p_value = stats.ttest_ind(list1, list2)\n",
    "    return p_value\n",
    "\n",
    "list1 = [5, 10, 15, 20, 25]\n",
    "list2 = [10, 20, 30, 40, 50]\n",
    "p_value = perform_hypothesis_test(list1, list2)\n",
    "print(\"P-value:\", p_value)"
   ]
  },
  {
   "cell_type": "code",
   "execution_count": null,
   "id": "7d234994-7165-47ff-8521-8bb3713b0fb3",
   "metadata": {},
   "outputs": [],
   "source": []
  }
 ],
 "metadata": {
  "kernelspec": {
   "display_name": "Python 3 (ipykernel)",
   "language": "python",
   "name": "python3"
  },
  "language_info": {
   "codemirror_mode": {
    "name": "ipython",
    "version": 3
   },
   "file_extension": ".py",
   "mimetype": "text/x-python",
   "name": "python",
   "nbconvert_exporter": "python",
   "pygments_lexer": "ipython3",
   "version": "3.10.8"
  }
 },
 "nbformat": 4,
 "nbformat_minor": 5
}
