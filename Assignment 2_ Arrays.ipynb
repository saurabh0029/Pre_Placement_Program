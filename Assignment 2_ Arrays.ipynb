{
 "cells": [
  {
   "cell_type": "markdown",
   "id": "7b70732b-f356-49c6-bb18-adaf89c5cc4e",
   "metadata": {},
   "source": [
    "                                                Assignment 2 - Arrays"
   ]
  },
  {
   "cell_type": "markdown",
   "id": "2e2d3b2c-ff91-4b36-9cb3-1c4e14c686ed",
   "metadata": {},
   "source": [
    "Q1.Ans"
   ]
  },
  {
   "cell_type": "code",
   "execution_count": 1,
   "id": "c1399acd-cb40-4096-9325-fcd9670a5675",
   "metadata": {},
   "outputs": [
    {
     "name": "stdout",
     "output_type": "stream",
     "text": [
      "4\n"
     ]
    }
   ],
   "source": [
    "def array_pair_sum(nums):\n",
    "    \n",
    "    nums.sort()  # Sort the array in ascending order\n",
    "    \n",
    "    max_sum = 0\n",
    "    \n",
    "    for i in range(0, len(nums), 2):\n",
    "        max_sum += nums[i]\n",
    "    return max_sum\n",
    "\n",
    "#Example\n",
    "nums = [1,4,3,2]\n",
    "result = array_pair_sum(nums)\n",
    "print(result)"
   ]
  },
  {
   "cell_type": "code",
   "execution_count": null,
   "id": "4e3bbec4-62f7-473a-a8d8-b6ab09de92ff",
   "metadata": {},
   "outputs": [],
   "source": []
  },
  {
   "cell_type": "markdown",
   "id": "d669ba0b-931f-4984-8d61-1d31ac9666f5",
   "metadata": {},
   "source": [
    "Q2.Ans"
   ]
  },
  {
   "cell_type": "code",
   "execution_count": 2,
   "id": "7a6ac14b-7535-434b-b94f-4213b885335f",
   "metadata": {},
   "outputs": [
    {
     "name": "stdout",
     "output_type": "stream",
     "text": [
      "3\n"
     ]
    }
   ],
   "source": [
    "def max_candies(candy_Type):\n",
    "    \n",
    "    unique_candies = set()\n",
    "    \n",
    "    for candy in candy_Type:\n",
    "        \n",
    "        unique_candies.add(candy)\n",
    "    \n",
    "    max_types = min(len(unique_candies), len(candy_Type) // 2)\n",
    "    \n",
    "    return max_types\n",
    "\n",
    "#Example\n",
    "candyType = [1,1,2,2,3,3]\n",
    "\n",
    "result = max_candies(candyType)\n",
    "\n",
    "print(result)\n"
   ]
  },
  {
   "cell_type": "code",
   "execution_count": null,
   "id": "f0d71774-c699-4e0c-8fdc-1870682e23b3",
   "metadata": {},
   "outputs": [],
   "source": []
  },
  {
   "cell_type": "markdown",
   "id": "c4460d4f-4438-47d2-9c3e-b68d0b152704",
   "metadata": {},
   "source": [
    "Q3.Ans"
   ]
  },
  {
   "cell_type": "code",
   "execution_count": 4,
   "id": "20436707-dd74-4c1a-bdf5-7889243904e3",
   "metadata": {},
   "outputs": [
    {
     "name": "stdout",
     "output_type": "stream",
     "text": [
      "5\n"
     ]
    }
   ],
   "source": [
    "from collections import Counter\n",
    "\n",
    "def findLHS(nums):\n",
    "    \n",
    "    frequency = Counter(nums)\n",
    "    \n",
    "    max_length = 0\n",
    "    \n",
    "    for num in frequency:\n",
    "        \n",
    "        if num + 1 in frequency:\n",
    "            \n",
    "            max_length = max(max_length, frequency[num] + frequency[num + 1])\n",
    "            \n",
    "    return max_length\n",
    "\n",
    "\n",
    "#Example\n",
    "nums = [1,3,2,2,5,2,3,7]\n",
    "\n",
    "result = findLHS(nums)\n",
    "\n",
    "print(result)"
   ]
  },
  {
   "cell_type": "code",
   "execution_count": null,
   "id": "35ed5676-6d56-42c4-b59e-849d5ecb6eba",
   "metadata": {},
   "outputs": [],
   "source": []
  },
  {
   "cell_type": "markdown",
   "id": "ab268f8b-2ac7-416b-8b16-54e84bfe144b",
   "metadata": {},
   "source": [
    "Q4.Ans"
   ]
  },
  {
   "cell_type": "code",
   "execution_count": 6,
   "id": "191d2f1d-7039-4f3a-a832-07c1229c6eaa",
   "metadata": {},
   "outputs": [
    {
     "name": "stdout",
     "output_type": "stream",
     "text": [
      "True\n"
     ]
    }
   ],
   "source": [
    "def canPlaceFlowers(flowerbed, n):\n",
    "    \n",
    "    count = 0\n",
    "    \n",
    "    for i in range(len(flowerbed)):\n",
    "        \n",
    "        if (\n",
    "            flowerbed[i] == 0 and\n",
    "            (i == 0 or flowerbed[i - 1] == 0) and\n",
    "            (i == len(flowerbed) - 1 or flowerbed[i + 1] == 0)\n",
    "        ):\n",
    "            flowerbed[i] = 1\n",
    "            count += 1\n",
    "    return count >= n\n",
    "\n",
    "\n",
    "#Example\n",
    "flowerbed = [1,0,0,0,1] \n",
    "n = 1\n",
    "\n",
    "result = canPlaceFlowers(flowerbed,n)\n",
    "          \n",
    "print(result)"
   ]
  },
  {
   "cell_type": "code",
   "execution_count": null,
   "id": "7704721a-17b4-4350-857c-ac869b35bd36",
   "metadata": {},
   "outputs": [],
   "source": []
  },
  {
   "cell_type": "markdown",
   "id": "ce214305-8330-4298-ae74-81de8d64001d",
   "metadata": {},
   "source": [
    "Q5.Ans"
   ]
  },
  {
   "cell_type": "code",
   "execution_count": 7,
   "id": "3c630b05-a715-4392-85ff-a3163cea6b57",
   "metadata": {},
   "outputs": [
    {
     "name": "stdout",
     "output_type": "stream",
     "text": [
      "6\n"
     ]
    }
   ],
   "source": [
    "def maximumProduct(nums):\n",
    "    \n",
    "    nums.sort()\n",
    "    \n",
    "    max_product = max(nums[-1] * nums[-2] * nums[-3], nums[0] * nums[1] * nums[-1])\n",
    "    \n",
    "    return max_product\n",
    "\n",
    "#Example\n",
    "nums = [1,2,3]\n",
    "\n",
    "result = maximumProduct(nums)\n",
    "\n",
    "print(result)"
   ]
  },
  {
   "cell_type": "code",
   "execution_count": null,
   "id": "6cc43232-df77-4d80-a6d3-e56c8e2535b6",
   "metadata": {},
   "outputs": [],
   "source": []
  },
  {
   "cell_type": "markdown",
   "id": "6bf13769-a115-4943-bdfb-3a27e36da9d1",
   "metadata": {},
   "source": [
    "Q6.Ans"
   ]
  },
  {
   "cell_type": "code",
   "execution_count": 8,
   "id": "f7c4109c-3454-453a-ab88-91764e5710e9",
   "metadata": {},
   "outputs": [
    {
     "name": "stdout",
     "output_type": "stream",
     "text": [
      "4\n"
     ]
    }
   ],
   "source": [
    "def search(nums, target):\n",
    "    \n",
    "    left, right = 0, len(nums) - 1\n",
    "    \n",
    "    while left <= right:\n",
    "        \n",
    "        mid = left + (right - left) // 2\n",
    "        \n",
    "        if nums[mid] == target:\n",
    "            \n",
    "            return mid\n",
    "        \n",
    "        elif nums[mid] < target:\n",
    "            \n",
    "            left = mid + 1\n",
    "            \n",
    "        else:\n",
    "            \n",
    "            right = mid - 1\n",
    "            \n",
    "    return -1\n",
    "\n",
    "#Example\n",
    "\n",
    "nums = [-1,0,3,5,9,12]\n",
    "target = 9\n",
    "\n",
    "result = search(nums , target)\n",
    "print(result)"
   ]
  },
  {
   "cell_type": "code",
   "execution_count": null,
   "id": "46201b59-856c-4edd-a768-57365077b508",
   "metadata": {},
   "outputs": [],
   "source": []
  },
  {
   "cell_type": "markdown",
   "id": "bb26cc7b-60cb-41fb-be46-10e6020f9ef3",
   "metadata": {},
   "source": [
    "Q7.Ans"
   ]
  },
  {
   "cell_type": "code",
   "execution_count": 9,
   "id": "41c31791-c2b2-4132-bf2a-573727e50411",
   "metadata": {},
   "outputs": [
    {
     "name": "stdout",
     "output_type": "stream",
     "text": [
      "True\n"
     ]
    }
   ],
   "source": [
    "def isMonotonic(nums):\n",
    "    \n",
    "    isIncreasing = True\n",
    "    \n",
    "    isDecreasing = True\n",
    "    \n",
    "    for i in range(1, len(nums)):\n",
    "        \n",
    "        if nums[i] > nums[i - 1]:\n",
    "            \n",
    "            isDecreasing = False\n",
    "            \n",
    "        if nums[i] < nums[i - 1]:\n",
    "            \n",
    "            isIncreasing = False\n",
    "            \n",
    "    return isIncreasing or isDecreasing\n",
    "\n",
    "\n",
    "#Example\n",
    "nums = [1,2,2,3]\n",
    "\n",
    "result = isMonotonic(nums)\n",
    "\n",
    "print(result)"
   ]
  },
  {
   "cell_type": "code",
   "execution_count": null,
   "id": "216ba836-0ca8-4def-a4aa-bbfcad13a221",
   "metadata": {},
   "outputs": [],
   "source": []
  },
  {
   "cell_type": "markdown",
   "id": "0cada7a3-fc98-4d16-aca5-2f58639f7c5e",
   "metadata": {},
   "source": [
    "Q8.Ans"
   ]
  },
  {
   "cell_type": "code",
   "execution_count": 10,
   "id": "0ea86c26-a204-46d4-95ee-40c949323be3",
   "metadata": {},
   "outputs": [
    {
     "name": "stdout",
     "output_type": "stream",
     "text": [
      "0\n"
     ]
    }
   ],
   "source": [
    "def minimumScore(nums, k):\n",
    "    \n",
    "    min_score = float('inf')\n",
    "    \n",
    "    max_score = float('-inf')\n",
    "    \n",
    "    for num in nums:\n",
    "        \n",
    "        for x in range(-k, k+1):\n",
    "            \n",
    "            new_value = num + x\n",
    "            \n",
    "            min_score = min(min_score, new_value)\n",
    "            \n",
    "            max_score = max(max_score, new_value)\n",
    "    \n",
    "    return max_score - min_score\n",
    "\n",
    "#Example\n",
    "nums = [1]\n",
    "k = 0\n",
    "\n",
    "result = minimumScore(nums,k)\n",
    "\n",
    "print(result)"
   ]
  },
  {
   "cell_type": "code",
   "execution_count": null,
   "id": "e6dda385-d6a5-47b5-8ce6-2aadf2ac245c",
   "metadata": {},
   "outputs": [],
   "source": []
  }
 ],
 "metadata": {
  "kernelspec": {
   "display_name": "Python 3 (ipykernel)",
   "language": "python",
   "name": "python3"
  },
  "language_info": {
   "codemirror_mode": {
    "name": "ipython",
    "version": 3
   },
   "file_extension": ".py",
   "mimetype": "text/x-python",
   "name": "python",
   "nbconvert_exporter": "python",
   "pygments_lexer": "ipython3",
   "version": "3.10.8"
  }
 },
 "nbformat": 4,
 "nbformat_minor": 5
}
