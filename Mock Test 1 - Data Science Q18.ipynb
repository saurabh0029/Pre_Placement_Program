{
 "cells": [
  {
   "cell_type": "markdown",
   "id": "0000e961-25c4-4404-a7a8-bb63d1f6da8e",
   "metadata": {},
   "source": [
    "Q18.Ans"
   ]
  },
  {
   "cell_type": "code",
   "execution_count": 1,
   "id": "02edf60c-2331-44ec-a2ea-8c058a9ed4fb",
   "metadata": {},
   "outputs": [],
   "source": [
    "import time\n",
    "\n",
    "def timer(func):\n",
    "    def wrapper(*args, **kwargs):\n",
    "        start_time = time.time()\n",
    "        result = func(*args, **kwargs)\n",
    "        end_time = time.time()\n",
    "        execution_time = end_time - start_time\n",
    "        print(f\"Execution time: {execution_time} seconds\")\n",
    "        return result\n",
    "    return wrapper\n"
   ]
  },
  {
   "cell_type": "code",
   "execution_count": 2,
   "id": "62e5644a-816e-4117-9b0b-2e4a1dd7420c",
   "metadata": {},
   "outputs": [
    {
     "name": "stdout",
     "output_type": "stream",
     "text": [
      "Execution time: 2.0020604133605957 seconds\n"
     ]
    }
   ],
   "source": [
    "@timer\n",
    "def my_function():\n",
    "    # Code to measure execution time\n",
    "    time.sleep(2) \n",
    "\n",
    "my_function()  # Call the decorated function\n"
   ]
  },
  {
   "cell_type": "code",
   "execution_count": null,
   "id": "ad8e80f2-f716-4cf7-ba52-f4c318bea06a",
   "metadata": {},
   "outputs": [],
   "source": []
  }
 ],
 "metadata": {
  "kernelspec": {
   "display_name": "Python 3 (ipykernel)",
   "language": "python",
   "name": "python3"
  },
  "language_info": {
   "codemirror_mode": {
    "name": "ipython",
    "version": 3
   },
   "file_extension": ".py",
   "mimetype": "text/x-python",
   "name": "python",
   "nbconvert_exporter": "python",
   "pygments_lexer": "ipython3",
   "version": "3.10.8"
  }
 },
 "nbformat": 4,
 "nbformat_minor": 5
}
