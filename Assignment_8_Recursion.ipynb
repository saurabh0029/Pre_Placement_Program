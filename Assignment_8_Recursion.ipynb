{
 "cells": [
  {
   "cell_type": "markdown",
   "id": "8b96e3ae-f9ec-4e3b-a8c0-31949342c540",
   "metadata": {},
   "source": [
    "                                        Assignment 8 - Recursion"
   ]
  },
  {
   "cell_type": "markdown",
   "id": "c80b7367-8d14-4ec5-8efc-ca45f27c5b84",
   "metadata": {},
   "source": [
    "Q1.Ans"
   ]
  },
  {
   "cell_type": "code",
   "execution_count": 1,
   "id": "6a7b64fd-509d-44a2-ad65-d5aa848e3a83",
   "metadata": {},
   "outputs": [
    {
     "name": "stdout",
     "output_type": "stream",
     "text": [
      "231\n"
     ]
    }
   ],
   "source": [
    "def minimumDeleteSum(s1, s2):\n",
    "    m, n = len(s1), len(s2)\n",
    "\n",
    "    # Create a 2D array to store the minimum ASCII sum\n",
    "    dp = [[0] * (n + 1) for _ in range(m + 1)]\n",
    "\n",
    "    # Fill the first row\n",
    "    for j in range(1, n + 1):\n",
    "        dp[0][j] = dp[0][j - 1] + ord(s2[j - 1])\n",
    "\n",
    "    # Fill the first column\n",
    "    for i in range(1, m + 1):\n",
    "        dp[i][0] = dp[i - 1][0] + ord(s1[i - 1])\n",
    "\n",
    "    # Fill the rest of the dp array\n",
    "    for i in range(1, m + 1):\n",
    "        for j in range(1, n + 1):\n",
    "            if s1[i - 1] == s2[j - 1]:\n",
    "                dp[i][j] = dp[i - 1][j - 1]\n",
    "            else:\n",
    "                dp[i][j] = min(dp[i - 1][j] + ord(s1[i - 1]),\n",
    "                               dp[i][j - 1] + ord(s2[j - 1]))\n",
    "\n",
    "    return dp[m][n]\n",
    "\n",
    "\n",
    "#Example\n",
    "s1 = \"sea\"\n",
    "s2 = \"eat\"\n",
    "\n",
    "result = minimumDeleteSum(s1, s2)\n",
    "print(result)"
   ]
  },
  {
   "cell_type": "code",
   "execution_count": null,
   "id": "62f5aff6-a003-490d-92af-aea7b5bf8130",
   "metadata": {},
   "outputs": [],
   "source": []
  },
  {
   "cell_type": "markdown",
   "id": "bd5d2bf5-a021-4d0d-902c-6940473f6969",
   "metadata": {},
   "source": [
    "Q2.Ans"
   ]
  },
  {
   "cell_type": "code",
   "execution_count": 2,
   "id": "3d0bf761-fdfd-4b03-b9d3-a441b6ee3151",
   "metadata": {},
   "outputs": [
    {
     "name": "stdout",
     "output_type": "stream",
     "text": [
      "True\n"
     ]
    }
   ],
   "source": [
    "def isValid(s):\n",
    "    stack = []\n",
    "    star_stack = []\n",
    "\n",
    "    for char in s:\n",
    "        if char == '(':\n",
    "            stack.append(char)\n",
    "        elif char == '*':\n",
    "            star_stack.append(char)\n",
    "        elif char == ')':\n",
    "            if stack:\n",
    "                stack.pop()\n",
    "            elif star_stack:\n",
    "                star_stack.pop()\n",
    "            else:\n",
    "                return False\n",
    "\n",
    "    while stack and star_stack:\n",
    "        if stack[-1] > star_stack[-1]:\n",
    "            return False\n",
    "        stack.pop()\n",
    "        star_stack.pop()\n",
    "\n",
    "    return len(stack) == 0\n",
    "\n",
    "#Example\n",
    "s = \"()\"\n",
    "\n",
    "result = isValid(s)\n",
    "print(result)\n"
   ]
  },
  {
   "cell_type": "code",
   "execution_count": null,
   "id": "89652b0a-e105-4a79-a3c1-e8e513d4ce4e",
   "metadata": {},
   "outputs": [],
   "source": []
  },
  {
   "cell_type": "markdown",
   "id": "b9b82471-70bf-4c63-a289-df7370282fac",
   "metadata": {},
   "source": [
    "Q3.Ans"
   ]
  },
  {
   "cell_type": "code",
   "execution_count": 3,
   "id": "63638409-91e6-4f61-a6eb-147d0fed840b",
   "metadata": {},
   "outputs": [
    {
     "name": "stdout",
     "output_type": "stream",
     "text": [
      "2\n"
     ]
    }
   ],
   "source": [
    "def minDistance(word1, word2):\n",
    "    m, n = len(word1), len(word2)\n",
    "\n",
    "    # Create a 2D array to store the minimum number of steps\n",
    "    dp = [[0] * (n + 1) for _ in range(m + 1)]\n",
    "\n",
    "    # Fill the first row\n",
    "    for j in range(1, n + 1):\n",
    "        dp[0][j] = dp[0][j - 1] + 1\n",
    "\n",
    "    # Fill the first column\n",
    "    for i in range(1, m + 1):\n",
    "        dp[i][0] = dp[i - 1][0] + 1\n",
    "\n",
    "    # Fill the rest of the dp array\n",
    "    for i in range(1, m + 1):\n",
    "        for j in range(1, n + 1):\n",
    "            if word1[i - 1] == word2[j - 1]:\n",
    "                dp[i][j] = dp[i - 1][j - 1]\n",
    "            else:\n",
    "                dp[i][j] = min(dp[i - 1][j] + 1, dp[i][j - 1] + 1)\n",
    "\n",
    "    return dp[m][n]\n",
    "\n",
    "\n",
    "#Example\n",
    "word1 = \"sea\"\n",
    "word2 = \"eat\"\n",
    "\n",
    "result = minDistance(word1, word2)\n",
    "print(result)"
   ]
  },
  {
   "cell_type": "code",
   "execution_count": null,
   "id": "624df55f-e815-444f-bd64-851094f9ea0e",
   "metadata": {},
   "outputs": [],
   "source": []
  },
  {
   "cell_type": "markdown",
   "id": "c360e762-573e-4d4d-a9fa-4402a34c7d84",
   "metadata": {},
   "source": [
    "Q4.Ans"
   ]
  },
  {
   "cell_type": "code",
   "execution_count": 15,
   "id": "d90bc1c8-20af-4a0a-a384-8ff4da9d968b",
   "metadata": {},
   "outputs": [],
   "source": [
    "class TreeNode:\n",
    "    def __init__(self, val=0, left=None, right=None):\n",
    "        self.val = val\n",
    "        self.left = left\n",
    "        self.right = right\n",
    "\n",
    "\n",
    "def str2tree(s):\n",
    "    if not s:\n",
    "        return None\n",
    "\n",
    "    # Find the root value\n",
    "    val_end = s.find('(')\n",
    "    if val_end == -1:\n",
    "        val_end = len(s)\n",
    "\n",
    "    root_val = int(s[:val_end])\n",
    "    root = TreeNode(root_val)\n",
    "\n",
    "    # Find the substring representing the left child\n",
    "    left_start = val_end\n",
    "    left_end = find_matching_parenthesis(s, left_start)\n",
    "    root.left = str2tree(s[left_start + 1:left_end])\n",
    "\n",
    "    # Find the substring representing the right child\n",
    "    right_start = left_end + 1\n",
    "    right_end = find_matching_parenthesis(s, right_start)\n",
    "    root.right = str2tree(s[right_start + 1:right_end])\n",
    "\n",
    "    return root\n",
    "\n",
    "\n",
    "def find_matching_parenthesis(s, start):\n",
    "    count = 0\n",
    "    for i in range(start, len(s)):\n",
    "        if s[i] == '(':\n",
    "            count += 1\n",
    "        elif s[i] == ')':\n",
    "            count -= 1\n",
    "\n",
    "        if count == 0:\n",
    "            return i\n",
    "\n",
    "    return -1\n",
    "\n",
    "\n",
    "\n",
    "#Example\n",
    "s = '4(2(3)(1))(6(5))'\n",
    "root = str2tree(s)"
   ]
  },
  {
   "cell_type": "code",
   "execution_count": null,
   "id": "00bc2096-5a69-42cd-a9e9-6483bf42a449",
   "metadata": {},
   "outputs": [],
   "source": []
  },
  {
   "cell_type": "markdown",
   "id": "68ac6dab-2754-4c86-94b2-8e4885379022",
   "metadata": {},
   "source": [
    "Q5.Ans"
   ]
  },
  {
   "cell_type": "code",
   "execution_count": 16,
   "id": "28828ef0-5592-4bd8-a76a-783464773dbd",
   "metadata": {},
   "outputs": [
    {
     "name": "stdout",
     "output_type": "stream",
     "text": [
      "6\n"
     ]
    }
   ],
   "source": [
    "def compress(chars):\n",
    "    anchor = write = 0\n",
    "\n",
    "    for read in range(len(chars)):\n",
    "        if read + 1 == len(chars) or chars[read] != chars[read + 1]:\n",
    "            chars[write] = chars[anchor]\n",
    "            write += 1\n",
    "            if read > anchor:\n",
    "                count = str(read - anchor + 1)\n",
    "                for digit in count:\n",
    "                    chars[write] = digit\n",
    "                    write += 1\n",
    "            anchor = read + 1\n",
    "\n",
    "    return write\n",
    "\n",
    "\n",
    "#Example\n",
    "\n",
    "chars = [\"a\",\"a\",\"b\",\"b\",\"c\",\"c\",\"c\"]\n",
    "\n",
    "result = compress(chars)\n",
    "print(result)"
   ]
  },
  {
   "cell_type": "code",
   "execution_count": null,
   "id": "e0ce8c65-4fa7-4c63-b2a9-69ae4a32fb7d",
   "metadata": {},
   "outputs": [],
   "source": []
  },
  {
   "cell_type": "markdown",
   "id": "9138c6b2-ba09-4349-8d93-45f132b75839",
   "metadata": {},
   "source": [
    "Q6.Ans"
   ]
  },
  {
   "cell_type": "code",
   "execution_count": 17,
   "id": "01c1f603-5e60-4714-9018-c4cd9f21a2a5",
   "metadata": {},
   "outputs": [
    {
     "name": "stdout",
     "output_type": "stream",
     "text": [
      "[0, 6]\n"
     ]
    }
   ],
   "source": [
    "from collections import Counter\n",
    "\n",
    "def findAnagrams(s, p):\n",
    "    result = []\n",
    "    p_counter = Counter(p)\n",
    "    window_counter = Counter(s[:len(p)])\n",
    "\n",
    "    if window_counter == p_counter:\n",
    "        result.append(0)\n",
    "\n",
    "    for i in range(len(p), len(s)):\n",
    "        # Add the current character to the window\n",
    "        window_counter[s[i]] += 1\n",
    "\n",
    "        # Remove the leftmost character from the window\n",
    "        if window_counter[s[i - len(p)]] == 1:\n",
    "            del window_counter[s[i - len(p)]]\n",
    "        else:\n",
    "            window_counter[s[i - len(p)]] -= 1\n",
    "\n",
    "        # Check if the window is an anagram of p\n",
    "        if window_counter == p_counter:\n",
    "            result.append(i - len(p) + 1)\n",
    "\n",
    "    return result\n",
    "\n",
    "#Example\n",
    "s = \"cbaebabacd\"\n",
    "p = \"abc\"\n",
    "\n",
    "result = findAnagrams(s,p)\n",
    "print(result)"
   ]
  },
  {
   "cell_type": "code",
   "execution_count": null,
   "id": "79159f60-53af-4c46-b31a-15966a96b557",
   "metadata": {},
   "outputs": [],
   "source": []
  },
  {
   "cell_type": "markdown",
   "id": "fb5343e6-3ca5-4722-8e5f-7815948727b2",
   "metadata": {},
   "source": [
    "Q7.Ans"
   ]
  },
  {
   "cell_type": "code",
   "execution_count": 18,
   "id": "94725ff2-0051-44ec-81c8-ab6ff0725b03",
   "metadata": {},
   "outputs": [
    {
     "name": "stdout",
     "output_type": "stream",
     "text": [
      "aaabcbc\n"
     ]
    }
   ],
   "source": [
    "def decodeString(s):\n",
    "    stack = []\n",
    "    curr_num = 0\n",
    "    curr_str = \"\"\n",
    "\n",
    "    for char in s:\n",
    "        if char.isdigit():\n",
    "            curr_num = curr_num * 10 + int(char)\n",
    "        elif char == '[':\n",
    "            stack.append(curr_str)\n",
    "            stack.append(curr_num)\n",
    "            curr_str = \"\"\n",
    "            curr_num = 0\n",
    "        elif char == ']':\n",
    "            num = stack.pop()\n",
    "            prev_str = stack.pop()\n",
    "            curr_str = prev_str + num * curr_str\n",
    "        else:\n",
    "            curr_str += char\n",
    "\n",
    "    return curr_str\n",
    "\n",
    "#Example\n",
    "s = \"3[a]2[bc]\"\n",
    "\n",
    "result = decodeString(s)\n",
    "print(result)"
   ]
  },
  {
   "cell_type": "code",
   "execution_count": null,
   "id": "dd3a079f-cca2-46d5-9ca2-5ab2c743f8ea",
   "metadata": {},
   "outputs": [],
   "source": []
  },
  {
   "cell_type": "markdown",
   "id": "e4cafce4-94f0-4c24-9a8b-3d329a1e2339",
   "metadata": {},
   "source": [
    "Q8.Ans"
   ]
  },
  {
   "cell_type": "code",
   "execution_count": 19,
   "id": "e16d7596-76a0-4dac-9312-af86f31223b6",
   "metadata": {},
   "outputs": [
    {
     "name": "stdout",
     "output_type": "stream",
     "text": [
      "True\n"
     ]
    }
   ],
   "source": [
    "def buddyStrings(s, goal):\n",
    "    if len(s) != len(goal):\n",
    "        return False\n",
    "\n",
    "    if s == goal:\n",
    "        # Check if there are any duplicate characters in s\n",
    "        seen = set()\n",
    "        for char in s:\n",
    "            if char in seen:\n",
    "                return True\n",
    "            seen.add(char)\n",
    "        return False\n",
    "\n",
    "    diff = []\n",
    "    for i in range(len(s)):\n",
    "        if s[i] != goal[i]:\n",
    "            diff.append((s[i], goal[i]))\n",
    "\n",
    "        if len(diff) > 2:\n",
    "            return False\n",
    "\n",
    "    return len(diff) == 2 and diff[0] == diff[1][::-1]\n",
    "\n",
    "#Example\n",
    "s = \"ab\"\n",
    "goal = \"ba\"\n",
    "\n",
    "result = buddyStrings(s,goal)\n",
    "print(result)"
   ]
  },
  {
   "cell_type": "code",
   "execution_count": null,
   "id": "0197c991-eb62-4a0c-8262-95628cdc7120",
   "metadata": {},
   "outputs": [],
   "source": []
  }
 ],
 "metadata": {
  "kernelspec": {
   "display_name": "Python 3 (ipykernel)",
   "language": "python",
   "name": "python3"
  },
  "language_info": {
   "codemirror_mode": {
    "name": "ipython",
    "version": 3
   },
   "file_extension": ".py",
   "mimetype": "text/x-python",
   "name": "python",
   "nbconvert_exporter": "python",
   "pygments_lexer": "ipython3",
   "version": "3.10.8"
  }
 },
 "nbformat": 4,
 "nbformat_minor": 5
}
