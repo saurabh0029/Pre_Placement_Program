{
 "cells": [
  {
   "cell_type": "markdown",
   "id": "98c16152-24e0-4f2b-be26-1ec0ea5b4dc8",
   "metadata": {},
   "source": [
    "                                            Assignment 4 - 2D Arrays"
   ]
  },
  {
   "cell_type": "markdown",
   "id": "ad57c5cc-0734-4d00-b475-6c8608bdb16c",
   "metadata": {},
   "source": [
    "Q1.Ans"
   ]
  },
  {
   "cell_type": "code",
   "execution_count": 1,
   "id": "58748e9a-b013-410f-9319-4e9fbbb8d0e6",
   "metadata": {},
   "outputs": [
    {
     "name": "stdout",
     "output_type": "stream",
     "text": [
      "[1, 5]\n"
     ]
    }
   ],
   "source": [
    "def find_common_elements(arr1, arr2, arr3):\n",
    "    pointer1, pointer2, pointer3 = 0, 0, 0\n",
    "    result = []\n",
    "\n",
    "    while pointer1 < len(arr1) and pointer2 < len(arr2) and pointer3 < len(arr3):\n",
    "        if arr1[pointer1] == arr2[pointer2] == arr3[pointer3]:\n",
    "            result.append(arr1[pointer1])\n",
    "            pointer1 += 1\n",
    "            pointer2 += 1\n",
    "            pointer3 += 1\n",
    "        elif arr1[pointer1] < arr2[pointer2]:\n",
    "            pointer1 += 1\n",
    "        elif arr2[pointer2] < arr3[pointer3]:\n",
    "            pointer2 += 1\n",
    "        else:\n",
    "            pointer3 += 1\n",
    "\n",
    "    return result\n",
    "\n",
    "\n",
    "#Example\n",
    "arr1 = [1,2,3,4,5]\n",
    "arr2 = [1,2,5,7,9]\n",
    "arr3 = [1,3,4,5,8]\n",
    "\n",
    "result = find_common_elements(arr1,arr2,arr3)\n",
    "print(result)"
   ]
  },
  {
   "cell_type": "code",
   "execution_count": null,
   "id": "ed6ce549-e089-4a87-b423-b5ff56926cb8",
   "metadata": {},
   "outputs": [],
   "source": []
  },
  {
   "cell_type": "markdown",
   "id": "5cd3acff-2206-4417-83a5-7303850e4198",
   "metadata": {},
   "source": [
    "Q2.Ans"
   ]
  },
  {
   "cell_type": "code",
   "execution_count": 2,
   "id": "c31466e7-01c6-4d50-8cd1-242045ac46b7",
   "metadata": {},
   "outputs": [
    {
     "name": "stdout",
     "output_type": "stream",
     "text": [
      "[[1, 3], [4, 6]]\n"
     ]
    }
   ],
   "source": [
    "def find_disjoint_nums(nums1, nums2):\n",
    "    set1 = set(nums1)\n",
    "    set2 = set(nums2)\n",
    "    distinct_nums1 = list(set1 - set2)\n",
    "    distinct_nums2 = list(set2 - set1)\n",
    "    answer = [distinct_nums1, distinct_nums2]\n",
    "    return answer\n",
    "\n",
    "#Example\n",
    "nums1 = [1,2,3]\n",
    "nums2 = [2,4,6]\n",
    "\n",
    "result = find_disjoint_nums(nums1,nums2)\n",
    "print(result)"
   ]
  },
  {
   "cell_type": "code",
   "execution_count": null,
   "id": "ba1499b9-22e9-48d0-9343-9dd828b74721",
   "metadata": {},
   "outputs": [],
   "source": []
  },
  {
   "cell_type": "markdown",
   "id": "3ce99dc1-f724-4600-a1d4-bff18661d597",
   "metadata": {},
   "source": [
    "Q3.Ans"
   ]
  },
  {
   "cell_type": "code",
   "execution_count": 3,
   "id": "b2ea4638-eaed-488c-b816-68728ba9e7bb",
   "metadata": {},
   "outputs": [
    {
     "name": "stdout",
     "output_type": "stream",
     "text": [
      "[[1, 4, 7], [2, 5, 8], [3, 6, 9]]\n"
     ]
    }
   ],
   "source": [
    "def transpose(matrix):\n",
    "    rows = len(matrix)\n",
    "    cols = len(matrix[0])\n",
    "\n",
    "    transpose = [[0] * rows for _ in range(cols)]\n",
    "\n",
    "    for i in range(rows):\n",
    "        for j in range(cols):\n",
    "            transpose[j][i] = matrix[i][j]\n",
    "\n",
    "    return transpose\n",
    "\n",
    "#Example\n",
    "matrix = [[1,2,3],[4,5,6],[7,8,9]]\n",
    "\n",
    "result = transpose(matrix)\n",
    "print(result)"
   ]
  },
  {
   "cell_type": "code",
   "execution_count": null,
   "id": "97a717d4-2fd5-4254-ac24-2e514ec74348",
   "metadata": {},
   "outputs": [],
   "source": []
  },
  {
   "cell_type": "markdown",
   "id": "c44ade76-d89e-442e-8452-20a2f1c3fd60",
   "metadata": {},
   "source": [
    "Q4.Ans"
   ]
  },
  {
   "cell_type": "code",
   "execution_count": 4,
   "id": "54ec1e8b-e666-4928-b787-2e6e392f4706",
   "metadata": {},
   "outputs": [
    {
     "name": "stdout",
     "output_type": "stream",
     "text": [
      "4\n"
     ]
    }
   ],
   "source": [
    "def arrayPairSum(nums):\n",
    "    nums.sort()\n",
    "    max_sum = 0\n",
    "\n",
    "    for i in range(0, len(nums), 2):\n",
    "        max_sum += nums[i]\n",
    "\n",
    "    return max_sum\n",
    "\n",
    "#Example\n",
    "nums = [1,4,3,2]\n",
    "\n",
    "result = arrayPairSum(nums)\n",
    "print(result)"
   ]
  },
  {
   "cell_type": "code",
   "execution_count": null,
   "id": "b35c89ac-a055-42e4-824e-e0418fb4f497",
   "metadata": {},
   "outputs": [],
   "source": []
  },
  {
   "cell_type": "markdown",
   "id": "a4bdbed9-2a76-4c03-9ab1-031e3d3b7c49",
   "metadata": {},
   "source": [
    "Q5.Ans"
   ]
  },
  {
   "cell_type": "code",
   "execution_count": 5,
   "id": "7453ad00-ac99-46b0-bd65-e365c8cd8067",
   "metadata": {},
   "outputs": [
    {
     "name": "stdout",
     "output_type": "stream",
     "text": [
      "2\n"
     ]
    }
   ],
   "source": [
    "def arrangeCoins(n):\n",
    "    complete_rows = 0\n",
    "    i = 1\n",
    "\n",
    "    while (i * (i + 1)) // 2 <= n:\n",
    "        complete_rows += 1\n",
    "        i += 1\n",
    "\n",
    "    return complete_rows\n",
    "\n",
    "#Example\n",
    "n = 5\n",
    "\n",
    "result = arrangeCoins(n)\n",
    "print(result)"
   ]
  },
  {
   "cell_type": "code",
   "execution_count": null,
   "id": "fc0cb4ae-8413-4a8c-b0a5-267759a1bd25",
   "metadata": {},
   "outputs": [],
   "source": []
  },
  {
   "cell_type": "markdown",
   "id": "d0cdb663-756d-4c78-ab0c-5f630b096459",
   "metadata": {},
   "source": [
    "Q6.Ans"
   ]
  },
  {
   "cell_type": "code",
   "execution_count": 6,
   "id": "6ea9c375-0be1-449a-a433-fd0101bda8ad",
   "metadata": {},
   "outputs": [
    {
     "name": "stdout",
     "output_type": "stream",
     "text": [
      "[0, 1, 9, 16, 100]\n"
     ]
    }
   ],
   "source": [
    "def sortedSquares(nums):\n",
    "    result = []\n",
    "    left, right = 0, len(nums) - 1\n",
    "\n",
    "    while left <= right:\n",
    "        if abs(nums[left]) > abs(nums[right]):\n",
    "            result.insert(0, nums[left] ** 2)\n",
    "            left += 1\n",
    "        else:\n",
    "            result.insert(0, nums[right] ** 2)\n",
    "            right -= 1\n",
    "\n",
    "    return result\n",
    "\n",
    "#Example\n",
    "nums = [-4,-1,0,3,10]\n",
    "\n",
    "result = sortedSquares(nums)\n",
    "print(result)"
   ]
  },
  {
   "cell_type": "code",
   "execution_count": null,
   "id": "b1e9c3d0-bffe-4358-b84b-78fc1ce67b63",
   "metadata": {},
   "outputs": [],
   "source": []
  },
  {
   "cell_type": "markdown",
   "id": "7aa71760-72d5-4266-a720-fc0ded0c1b11",
   "metadata": {},
   "source": [
    "Q7.Ans"
   ]
  },
  {
   "cell_type": "code",
   "execution_count": 8,
   "id": "dc1a3853-3987-4450-a991-39d68f225934",
   "metadata": {},
   "outputs": [
    {
     "name": "stdout",
     "output_type": "stream",
     "text": [
      "4\n"
     ]
    }
   ],
   "source": [
    "def maxCount(m, n, ops):\n",
    "    max_val = m * n\n",
    "\n",
    "    for op in ops:\n",
    "        max_val = min(max_val, op[0], op[1])\n",
    "\n",
    "    return max_val * max_val\n",
    "\n",
    "\n",
    "#Example\n",
    "m = 3\n",
    "n = 3\n",
    "ops = [[2,2],[3,3]]\n",
    "\n",
    "result=maxCount(m,n,ops)\n",
    "print(result)"
   ]
  },
  {
   "cell_type": "code",
   "execution_count": null,
   "id": "e74a3f28-6999-4edd-b6fd-c1ee36cab05f",
   "metadata": {},
   "outputs": [],
   "source": []
  },
  {
   "cell_type": "markdown",
   "id": "38618d35-e31a-4b4e-a928-7da4a0146cfe",
   "metadata": {},
   "source": [
    "Q8.Ans"
   ]
  },
  {
   "cell_type": "code",
   "execution_count": 9,
   "id": "49fc8c22-71d0-4e9a-a229-d4405dd65a52",
   "metadata": {},
   "outputs": [
    {
     "name": "stdout",
     "output_type": "stream",
     "text": [
      "[2, 3, 5, 4, 1, 7]\n"
     ]
    }
   ],
   "source": [
    "def shuffle(nums):\n",
    "    half_length = len(nums) // 2\n",
    "    result = []\n",
    "\n",
    "    for i in range(half_length):\n",
    "        result.append(nums[i])\n",
    "        result.append(nums[i + half_length])\n",
    "\n",
    "    return result\n",
    "\n",
    "#Example\n",
    "nums = [2,5,1,3,4,7]\n",
    "n = 3\n",
    "\n",
    "result = shuffle(nums)\n",
    "print(result)"
   ]
  },
  {
   "cell_type": "code",
   "execution_count": null,
   "id": "f739159d-7f6c-4523-b7fc-e2256334673c",
   "metadata": {},
   "outputs": [],
   "source": []
  }
 ],
 "metadata": {
  "kernelspec": {
   "display_name": "Python 3 (ipykernel)",
   "language": "python",
   "name": "python3"
  },
  "language_info": {
   "codemirror_mode": {
    "name": "ipython",
    "version": 3
   },
   "file_extension": ".py",
   "mimetype": "text/x-python",
   "name": "python",
   "nbconvert_exporter": "python",
   "pygments_lexer": "ipython3",
   "version": "3.10.8"
  }
 },
 "nbformat": 4,
 "nbformat_minor": 5
}
