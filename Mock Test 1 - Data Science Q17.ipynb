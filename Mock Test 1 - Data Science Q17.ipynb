{
 "cells": [
  {
   "cell_type": "markdown",
   "id": "da88f413-666b-461d-8cfe-546fb5e93d66",
   "metadata": {},
   "source": [
    "Q17.Ans"
   ]
  },
  {
   "cell_type": "code",
   "execution_count": 2,
   "id": "cf6445c3-d6ce-4634-bf85-7f56f9ffd007",
   "metadata": {},
   "outputs": [
    {
     "data": {
      "text/plain": [
       "[2, 4, 6, 8, 10]"
      ]
     },
     "execution_count": 2,
     "metadata": {},
     "output_type": "execute_result"
    }
   ],
   "source": [
    "list = [1, 2, 3, 4, 5, 6, 7, 8, 9, 10] # Given List\n",
    "\n",
    "[i for i in list if i%2==0 ] # list comprehension"
   ]
  },
  {
   "cell_type": "code",
   "execution_count": null,
   "id": "fe7c4f7b-646f-4a9f-bc36-cb218acbffdb",
   "metadata": {},
   "outputs": [],
   "source": []
  }
 ],
 "metadata": {
  "kernelspec": {
   "display_name": "Python 3 (ipykernel)",
   "language": "python",
   "name": "python3"
  },
  "language_info": {
   "codemirror_mode": {
    "name": "ipython",
    "version": 3
   },
   "file_extension": ".py",
   "mimetype": "text/x-python",
   "name": "python",
   "nbconvert_exporter": "python",
   "pygments_lexer": "ipython3",
   "version": "3.10.8"
  }
 },
 "nbformat": 4,
 "nbformat_minor": 5
}
