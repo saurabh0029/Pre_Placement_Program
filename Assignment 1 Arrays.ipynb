{
 "cells": [
  {
   "cell_type": "markdown",
   "id": "8a756b0e-3a20-4074-9fd2-25c75bcfbab0",
   "metadata": {},
   "source": [
    "                                              Assignment 1 - Arrays"
   ]
  },
  {
   "cell_type": "markdown",
   "id": "4819a468-c80f-4907-abb7-20b23c2220a5",
   "metadata": {},
   "source": [
    "Q1.Ans"
   ]
  },
  {
   "cell_type": "code",
   "execution_count": 1,
   "id": "8a0c431b-f515-4484-bff1-e6865de83f2b",
   "metadata": {},
   "outputs": [
    {
     "name": "stdout",
     "output_type": "stream",
     "text": [
      "[0, 1]\n"
     ]
    }
   ],
   "source": [
    "def add_func(nums, target):\n",
    "    complement_map = {}\n",
    "    for i, num in enumerate(nums):\n",
    "        complement = target - num\n",
    "        if complement in complement_map:\n",
    "            return [complement_map[complement], i]\n",
    "        complement_map[num] = i\n",
    "    return []\n",
    "\n",
    "# Example \n",
    "nums = [2, 7, 11, 15]\n",
    "target = 9\n",
    "result = add_func(nums, target)\n",
    "print(result)  \n"
   ]
  },
  {
   "cell_type": "code",
   "execution_count": null,
   "id": "8f8bce81-91da-4ad9-b9f6-d1854dca181c",
   "metadata": {},
   "outputs": [],
   "source": []
  },
  {
   "cell_type": "markdown",
   "id": "e3928162-119d-4e20-addd-29c0d90175a3",
   "metadata": {},
   "source": [
    "Q2.Ans"
   ]
  },
  {
   "cell_type": "code",
   "execution_count": 3,
   "id": "00fabc7c-1963-44cf-8240-448641914244",
   "metadata": {},
   "outputs": [
    {
     "name": "stdout",
     "output_type": "stream",
     "text": [
      "2\n"
     ]
    }
   ],
   "source": [
    "def remove_Element(nums, val):\n",
    "    \n",
    "    # Two pointers\n",
    "    i = 0 \n",
    "    j = 0\n",
    "    while i < len(nums):\n",
    "        if nums[i] == val:\n",
    "            i += 1\n",
    "        else:\n",
    "            nums[j] = nums[i]\n",
    "            i += 1\n",
    "            j += 1\n",
    "    return j\n",
    "\n",
    "#Example\n",
    "\n",
    "nums = [3,2,2,3]\n",
    "val = 3\n",
    "\n",
    "result= remove_Element(nums,val)\n",
    "print(result)"
   ]
  },
  {
   "cell_type": "code",
   "execution_count": null,
   "id": "d3b827f8-ad4c-4a53-9455-e4679743343f",
   "metadata": {},
   "outputs": [],
   "source": []
  },
  {
   "cell_type": "markdown",
   "id": "fedda1fc-358d-4e0b-b902-4d39152b26ca",
   "metadata": {},
   "source": [
    "Q3.Ans"
   ]
  },
  {
   "cell_type": "code",
   "execution_count": 4,
   "id": "7feeed5d-4eb8-496b-9ebb-2cf8aaf7e430",
   "metadata": {},
   "outputs": [
    {
     "name": "stdout",
     "output_type": "stream",
     "text": [
      "2\n"
     ]
    }
   ],
   "source": [
    "def search_insert(nums, target):\n",
    "    \n",
    "    #two pointers left and right\n",
    "    \n",
    "    left = 0\n",
    "    right = len(nums) - 1\n",
    "    while left <= right:\n",
    "        mid = (left + right) // 2\n",
    "        if nums[mid] == target:\n",
    "            return mid\n",
    "        elif nums[mid] < target:\n",
    "            left = mid + 1\n",
    "        else:\n",
    "            right = mid - 1\n",
    "    return left\n",
    "\n",
    "#Example\n",
    "\n",
    "nums = [1,3,5,6]\n",
    "target = 5\n",
    "\n",
    "result=search_insert(nums,target)\n",
    "print(result)"
   ]
  },
  {
   "cell_type": "code",
   "execution_count": null,
   "id": "5dc523a4-b589-4600-9a28-b7dfe98471c9",
   "metadata": {},
   "outputs": [],
   "source": []
  },
  {
   "cell_type": "markdown",
   "id": "584ec931-9fcc-42d9-bdb4-502452eb4bab",
   "metadata": {},
   "source": [
    "Q4.Ans"
   ]
  },
  {
   "cell_type": "code",
   "execution_count": 5,
   "id": "3b14f14e-f972-4433-a279-5cf070ee1589",
   "metadata": {},
   "outputs": [
    {
     "name": "stdout",
     "output_type": "stream",
     "text": [
      "[1, 2, 4]\n"
     ]
    }
   ],
   "source": [
    "def increment_by_1(digits):\n",
    "    carry = 1\n",
    "    for i in range(len(digits) - 1, -1, -1):\n",
    "        digit_sum = digits[i] + carry\n",
    "        digits[i] = digit_sum % 10\n",
    "        carry = digit_sum // 10\n",
    "    \n",
    "    if carry:\n",
    "        digits.insert(0, carry)\n",
    "    \n",
    "    return digits\n",
    "\n",
    "\n",
    "#Example\n",
    "\n",
    "digits = [1,2,3]\n",
    "\n",
    "result=increment_by_1(digits)\n",
    "print(result)"
   ]
  },
  {
   "cell_type": "code",
   "execution_count": null,
   "id": "aa85e20e-27df-4914-9608-b4eb445d49bd",
   "metadata": {},
   "outputs": [],
   "source": []
  },
  {
   "cell_type": "markdown",
   "id": "27dfb204-d8d5-4304-8c48-b5f89960417b",
   "metadata": {},
   "source": [
    "Q5.Ans"
   ]
  },
  {
   "cell_type": "code",
   "execution_count": 13,
   "id": "bade8f36-e105-4616-9233-dc0a742e03e1",
   "metadata": {},
   "outputs": [
    {
     "name": "stdout",
     "output_type": "stream",
     "text": [
      "[1, 2, 2, 3, 5, 6]\n"
     ]
    }
   ],
   "source": [
    "def merge(nums1, m, nums2, n):\n",
    "    p1 = m - 1\n",
    "    p2 = n - 1\n",
    "    p = m + n - 1\n",
    "\n",
    "    while p1 >= 0 and p2 >= 0:\n",
    "        if nums1[p1] > nums2[p2]:\n",
    "            nums1[p] = nums1[p1]\n",
    "            p1 -= 1\n",
    "        else:\n",
    "            nums1[p] = nums2[p2]\n",
    "            p2 -= 1\n",
    "        p -= 1\n",
    "\n",
    "    # Copy remaining elements from nums2 to nums1\n",
    "    nums1[:p2 + 1] = nums2[:p2 + 1]\n",
    "\n",
    "\n",
    "        \n",
    "#Example\n",
    "\n",
    "nums1 = [1,2,3,0,0,0]\n",
    "nums2 = [2,5,6]\n",
    "m = 3\n",
    "n = 3\n",
    "\n",
    "result=merge(nums1, m, nums2, n)\n",
    "print(nums1)"
   ]
  },
  {
   "cell_type": "code",
   "execution_count": null,
   "id": "76bd4735-1077-4c03-9fb9-79cb4a50937b",
   "metadata": {},
   "outputs": [],
   "source": []
  },
  {
   "cell_type": "markdown",
   "id": "9b1729e4-836d-4dba-854c-aec4ee9f0a36",
   "metadata": {},
   "source": [
    "Q6.Ans"
   ]
  },
  {
   "cell_type": "code",
   "execution_count": 14,
   "id": "9043fc2c-aa4d-402e-b6f3-de8ff2b1d1ec",
   "metadata": {},
   "outputs": [
    {
     "name": "stdout",
     "output_type": "stream",
     "text": [
      "True\n"
     ]
    }
   ],
   "source": [
    "def search_duplicate(nums):\n",
    "    seen = set()\n",
    "    for num in nums:\n",
    "        if num in seen:\n",
    "            return True\n",
    "        seen.add(num)\n",
    "    return False\n",
    "\n",
    "#Example\n",
    "\n",
    "nums = [1,2,3,1]\n",
    "    \n",
    "result=search_duplicate(nums)\n",
    "\n",
    "print(result)"
   ]
  },
  {
   "cell_type": "code",
   "execution_count": null,
   "id": "b8a51565-5bbe-4413-97bc-44b055fbd2d1",
   "metadata": {},
   "outputs": [],
   "source": []
  },
  {
   "cell_type": "markdown",
   "id": "f0833226-95a6-4f96-9e80-c2270dbf4248",
   "metadata": {},
   "source": [
    "Q7.Ans"
   ]
  },
  {
   "cell_type": "code",
   "execution_count": 16,
   "id": "f98aa007-37aa-4c81-b686-e829d7bff8dd",
   "metadata": {},
   "outputs": [
    {
     "name": "stdout",
     "output_type": "stream",
     "text": [
      "[1, 3, 12, 0, 0]\n"
     ]
    }
   ],
   "source": [
    "def move_all_zeroes(nums):\n",
    "    n = len(nums)\n",
    "    j = 0\n",
    "    for i in range(n):\n",
    "        if nums[i] != 0:\n",
    "            nums[j] = nums[i]\n",
    "            j += 1\n",
    "    nums[j:] = [0] * (n - j)\n",
    "\n",
    "    \n",
    "#Example\n",
    "nums = [0,1,0,3,12]\n",
    "result=move_all_zeroes(nums)\n",
    "print(nums)"
   ]
  },
  {
   "cell_type": "code",
   "execution_count": null,
   "id": "82e003af-e421-43e8-9ea3-2c87e6fdc14e",
   "metadata": {},
   "outputs": [],
   "source": []
  },
  {
   "cell_type": "markdown",
   "id": "58279da0-a2b8-4839-a3e7-f8d7b901438f",
   "metadata": {},
   "source": [
    "Q8.Ans"
   ]
  },
  {
   "cell_type": "code",
   "execution_count": 17,
   "id": "f543ab2f-c682-4ca0-826a-27d64b853f02",
   "metadata": {},
   "outputs": [
    {
     "name": "stdout",
     "output_type": "stream",
     "text": [
      "[2, 3]\n"
     ]
    }
   ],
   "source": [
    "def findErrorNums(nums):\n",
    "    seen = set()\n",
    "    duplicate = -1\n",
    "    missing = -1\n",
    "    \n",
    "    for num in nums:\n",
    "        if num in seen:\n",
    "            duplicate = num\n",
    "        seen.add(num)\n",
    "    \n",
    "    total_sum = (len(nums) * (len(nums) + 1)) // 2\n",
    "    array_sum = sum(nums)\n",
    "    missing = total_sum - array_sum + duplicate\n",
    "    \n",
    "    return [duplicate, missing]\n",
    "\n",
    "\n",
    "#Example\n",
    "\n",
    "nums = [1,2,2,4]\n",
    "\n",
    "result=findErrorNums(nums)\n",
    "\n",
    "print(result)"
   ]
  },
  {
   "cell_type": "code",
   "execution_count": null,
   "id": "07e3e19e-8e87-4a14-b466-0fbacb868b50",
   "metadata": {},
   "outputs": [],
   "source": []
  }
 ],
 "metadata": {
  "kernelspec": {
   "display_name": "Python 3 (ipykernel)",
   "language": "python",
   "name": "python3"
  },
  "language_info": {
   "codemirror_mode": {
    "name": "ipython",
    "version": 3
   },
   "file_extension": ".py",
   "mimetype": "text/x-python",
   "name": "python",
   "nbconvert_exporter": "python",
   "pygments_lexer": "ipython3",
   "version": "3.10.8"
  }
 },
 "nbformat": 4,
 "nbformat_minor": 5
}
