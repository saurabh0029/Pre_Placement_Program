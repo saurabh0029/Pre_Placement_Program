{
 "cells": [
  {
   "cell_type": "markdown",
   "id": "e98900bd-92cd-41d9-9777-bd3f7552cde5",
   "metadata": {},
   "source": [
    "                                        Assignment 5 - 2D Arrays "
   ]
  },
  {
   "cell_type": "markdown",
   "id": "dbd6a8c9-3e46-4a1b-b38d-f978203addc5",
   "metadata": {},
   "source": [
    "Q1.Ans"
   ]
  },
  {
   "cell_type": "code",
   "execution_count": 1,
   "id": "ca5be24d-0bf9-4398-8589-a540e82138f4",
   "metadata": {},
   "outputs": [
    {
     "name": "stdout",
     "output_type": "stream",
     "text": [
      "[[1, 2], [3, 4]]\n"
     ]
    }
   ],
   "source": [
    "def convert_to_2d_array(original, m, n):\n",
    "    if len(original) != m * n:\n",
    "        return []  # Return empty 2D array if the number of elements is not equal to m * n\n",
    "    \n",
    "    result = []\n",
    "    for i in range(m):\n",
    "        row = original[i * n : (i + 1) * n]  # Extract elements for each row\n",
    "        result.append(row)  # Add the row to the result\n",
    "    \n",
    "    return result\n",
    "\n",
    "#Example\n",
    "original = [1,2,3,4]\n",
    "m = 2\n",
    "n = 2\n",
    "\n",
    "result = convert_to_2d_array(original,m,n)\n",
    "print(result)"
   ]
  },
  {
   "cell_type": "code",
   "execution_count": null,
   "id": "858e513f-a9ad-4046-80bf-8eb72ad3a684",
   "metadata": {},
   "outputs": [],
   "source": []
  },
  {
   "cell_type": "markdown",
   "id": "b9726d9f-b923-4837-a7cd-61bd4bbdbdad",
   "metadata": {},
   "source": [
    "Q2.Ans"
   ]
  },
  {
   "cell_type": "code",
   "execution_count": 2,
   "id": "a32bc86e-2ae8-4935-a140-aeeb98c16e24",
   "metadata": {},
   "outputs": [
    {
     "name": "stdout",
     "output_type": "stream",
     "text": [
      "2\n"
     ]
    }
   ],
   "source": [
    "def arrangeCoins(n):\n",
    "    k = 0  # Initialize the number of rows to 0\n",
    "    while n >= k + 1:\n",
    "        k += 1\n",
    "        n -= k  # Subtract the number of coins in the current row from the total coins\n",
    "    \n",
    "    return k\n",
    "\n",
    "\n",
    "#Example\n",
    "n = 5\n",
    "\n",
    "result = arrangeCoins(n)\n",
    "print(result)"
   ]
  },
  {
   "cell_type": "code",
   "execution_count": null,
   "id": "3dfa56d4-775b-4a47-9699-c71b9349fa97",
   "metadata": {},
   "outputs": [],
   "source": []
  },
  {
   "cell_type": "markdown",
   "id": "f07dd079-561a-42f5-9c8e-04241c671aaa",
   "metadata": {},
   "source": [
    "Q3.Ans"
   ]
  },
  {
   "cell_type": "code",
   "execution_count": 3,
   "id": "064d46e0-70ac-4d08-a4b3-2ba41d5dbbf3",
   "metadata": {},
   "outputs": [
    {
     "name": "stdout",
     "output_type": "stream",
     "text": [
      "[0, 1, 9, 16, 100]\n"
     ]
    }
   ],
   "source": [
    "def sortedSquares(nums):\n",
    "    # Square each number in the array\n",
    "    squared_nums = [num ** 2 for num in nums]\n",
    "    \n",
    "    # Sort the squared numbers in non-decreasing order\n",
    "    squared_nums.sort()\n",
    "    \n",
    "    return squared_nums\n",
    "\n",
    "#Example\n",
    "nums = [-4,-1,0,3,10]\n",
    "\n",
    "result = sortedSquares(nums)\n",
    "print(result)"
   ]
  },
  {
   "cell_type": "code",
   "execution_count": null,
   "id": "a90d7159-b3c1-45f9-830e-13cb9463cdc8",
   "metadata": {},
   "outputs": [],
   "source": []
  },
  {
   "cell_type": "markdown",
   "id": "a322139d-0b43-4fb5-b361-44fe925cba3f",
   "metadata": {},
   "source": [
    "Q4.Ans"
   ]
  },
  {
   "cell_type": "code",
   "execution_count": 4,
   "id": "88421af5-1841-4bfe-8b6e-9d175d7f959a",
   "metadata": {},
   "outputs": [
    {
     "name": "stdout",
     "output_type": "stream",
     "text": [
      "[[1, 3], [4, 6]]\n"
     ]
    }
   ],
   "source": [
    "def findDisjoint(nums1, nums2):\n",
    "    set1 = set(nums1)\n",
    "    set2 = set(nums2)\n",
    "    \n",
    "    distinct_nums1 = list(set1 - set2)\n",
    "    distinct_nums2 = list(set2 - set1)\n",
    "    \n",
    "    return [distinct_nums1, distinct_nums2]\n",
    "\n",
    "#Example\n",
    "nums1 = [1,2,3]\n",
    "nums2 = [2,4,6]\n",
    "\n",
    "result = findDisjoint(nums1,nums2)\n",
    "print(result)"
   ]
  },
  {
   "cell_type": "code",
   "execution_count": null,
   "id": "ee908e0f-51a6-4760-8a5c-c0e52a39752c",
   "metadata": {},
   "outputs": [],
   "source": []
  },
  {
   "cell_type": "markdown",
   "id": "a0499bc9-c9ee-4ce3-94c7-561c174b0670",
   "metadata": {},
   "source": [
    "Q5.Ans"
   ]
  },
  {
   "cell_type": "code",
   "execution_count": 5,
   "id": "31585000-8a5b-4132-b40c-de6e76f24d77",
   "metadata": {},
   "outputs": [
    {
     "name": "stdout",
     "output_type": "stream",
     "text": [
      "2\n"
     ]
    }
   ],
   "source": [
    "def distanceValue(arr1, arr2, d):\n",
    "    distance = 0\n",
    "    \n",
    "    for num1 in arr1:\n",
    "        found = False\n",
    "        for num2 in arr2:\n",
    "            if abs(num1 - num2) <= d:\n",
    "                found = True\n",
    "                break\n",
    "        \n",
    "        if not found:\n",
    "            distance += 1\n",
    "    \n",
    "    return distance\n",
    "\n",
    "#Example\n",
    "arr1 = [4,5,8]\n",
    "arr2 = [10,9,1,8]\n",
    "d = 2\n",
    "\n",
    "result = distanceValue(arr1,arr2,d)\n",
    "print(result)"
   ]
  },
  {
   "cell_type": "code",
   "execution_count": null,
   "id": "8a24c126-990e-4417-a569-5fc3d4977e26",
   "metadata": {},
   "outputs": [],
   "source": []
  },
  {
   "cell_type": "markdown",
   "id": "b3424458-cfa6-41ca-8b9b-cddc79db4f9c",
   "metadata": {},
   "source": [
    "Q6.Ans"
   ]
  },
  {
   "cell_type": "code",
   "execution_count": 6,
   "id": "455a59e7-ab55-430e-8950-96c3959a4d28",
   "metadata": {},
   "outputs": [
    {
     "name": "stdout",
     "output_type": "stream",
     "text": [
      "[2, 3]\n"
     ]
    }
   ],
   "source": [
    "def findDuplicates(nums):\n",
    "    result = []\n",
    "    for num in nums:\n",
    "        index = abs(num) - 1  # Convert the number to zero-based index\n",
    "        if nums[index] < 0:\n",
    "            result.append(abs(num))  # Add the number to the result\n",
    "        else:\n",
    "            nums[index] = -nums[index]  # Mark the number as visited by negating it\n",
    "    \n",
    "    return result\n",
    "\n",
    "#Example\n",
    "nums = [4,3,2,7,8,2,3,1]\n",
    "\n",
    "result = findDuplicates(nums)\n",
    "print(result)"
   ]
  },
  {
   "cell_type": "code",
   "execution_count": null,
   "id": "c590370c-1189-44c5-8304-23f7332e0b35",
   "metadata": {},
   "outputs": [],
   "source": []
  },
  {
   "cell_type": "markdown",
   "id": "88c63b14-512c-4079-b91d-da13fc9c9cd3",
   "metadata": {},
   "source": [
    "Q7.Ans"
   ]
  },
  {
   "cell_type": "code",
   "execution_count": 7,
   "id": "68aa76a6-d395-4ece-b70b-c13acb9ee482",
   "metadata": {},
   "outputs": [
    {
     "name": "stdout",
     "output_type": "stream",
     "text": [
      "1\n"
     ]
    }
   ],
   "source": [
    "def findMin(nums):\n",
    "    left = 0\n",
    "    right = len(nums) - 1\n",
    "\n",
    "    while left < right:\n",
    "        mid = left + (right - left) // 2\n",
    "\n",
    "        if nums[mid] > nums[right]:\n",
    "            left = mid + 1\n",
    "        else:\n",
    "            right = mid\n",
    "\n",
    "    return nums[left]\n",
    "\n",
    "#Example\n",
    "nums = [3,4,5,1,2]\n",
    "\n",
    "result = findMin(nums)\n",
    "print(result)"
   ]
  },
  {
   "cell_type": "code",
   "execution_count": null,
   "id": "213e888e-a1f6-4e27-bc6c-624b7657c6b2",
   "metadata": {},
   "outputs": [],
   "source": []
  },
  {
   "cell_type": "markdown",
   "id": "bace65c2-9bb6-4ec5-b794-16e777def13f",
   "metadata": {},
   "source": [
    "Q8.Ans"
   ]
  },
  {
   "cell_type": "code",
   "execution_count": 8,
   "id": "343c3c3b-1e10-4b91-8638-a35447b7fa8d",
   "metadata": {},
   "outputs": [
    {
     "name": "stdout",
     "output_type": "stream",
     "text": [
      "[1.0, 3.0, 4.0]\n"
     ]
    }
   ],
   "source": [
    "def findOriginalArray(changed):\n",
    "    if len(changed) % 2 != 0:\n",
    "        return []  # If the length of 'changed' is odd, it cannot be a doubled array\n",
    "    \n",
    "    original = []\n",
    "    seen = set()\n",
    "    \n",
    "    for num in changed:\n",
    "        if num / 2 in seen:\n",
    "            seen.remove(num / 2)\n",
    "            original.append(num / 2)\n",
    "        else:\n",
    "            seen.add(num)\n",
    "    \n",
    "    if len(seen) == 0:\n",
    "        return original\n",
    "    \n",
    "    return []  # 'changed' is not a doubled array\n",
    "\n",
    "\n",
    "#Example\n",
    "changed = [1,3,4,2,6,8]\n",
    "\n",
    "result = findOriginalArray(changed)\n",
    "print(result)"
   ]
  },
  {
   "cell_type": "code",
   "execution_count": null,
   "id": "ab9e2c51-dd63-4b29-9ed3-6fcfbb0ea4ce",
   "metadata": {},
   "outputs": [],
   "source": []
  }
 ],
 "metadata": {
  "kernelspec": {
   "display_name": "Python 3 (ipykernel)",
   "language": "python",
   "name": "python3"
  },
  "language_info": {
   "codemirror_mode": {
    "name": "ipython",
    "version": 3
   },
   "file_extension": ".py",
   "mimetype": "text/x-python",
   "name": "python",
   "nbconvert_exporter": "python",
   "pygments_lexer": "ipython3",
   "version": "3.10.8"
  }
 },
 "nbformat": 4,
 "nbformat_minor": 5
}
